{
 "cells": [
  {
   "cell_type": "markdown",
   "metadata": {},
   "source": [
    "# 학습이 끝난 GPS_model과 Gesture_model을 실시간으로 MATLAB과 연동하여 사용하기"
   ]
  },
  {
   "cell_type": "markdown",
   "metadata": {},
   "source": [
    "## 학습이 끝난 GPS_model과 Gesture_model을 load"
   ]
  },
  {
   "cell_type": "code",
   "execution_count": 1,
   "metadata": {
    "scrolled": true
   },
   "outputs": [
    {
     "name": "stderr",
     "output_type": "stream",
     "text": [
      "Using TensorFlow backend.\n"
     ]
    },
    {
     "name": "stdout",
     "output_type": "stream",
     "text": [
      "Loaded model from disk\n"
     ]
    }
   ],
   "source": [
    "# 모델 로드\n",
    "# 이전에 GPS_test와 Gesture_test 실행하여 GPS_model.h5, GPS_model.json, Gesture_model.h5, Gesture_model.json 파일 생성.\n",
    "from keras.models import model_from_json\n",
    "\n",
    "json_file_GPS = open(\"GPS_model.json\", \"r\") # json 파일은 모델의 구조를 포함함. 'read' 형식으로 json 파일 열기.\n",
    "loaded_model_json_GPS = json_file_GPS.read() # 실제로 파일을 읽은 결과를 저장.\n",
    "json_file_GPS.close() # 열었던 파일 닫아주기.\n",
    "loaded_GPS_model = model_from_json(loaded_model_json_GPS) # 읽어들인 모델의 구조를 keras.models의 model_from_json 함수에 적용.\n",
    "\n",
    "loaded_GPS_model.load_weights(\"GPS_model.h5\") # 모델 구조에 h5 형식으로 저장된 학습된 weights를 적용. load_weights라는 함수 사용.\n",
    "\n",
    "# 위와 동일한 방식으로 학습된 Gesture 모델 import.\n",
    "json_file_Gesture = open(\"Gesture_model.json\", \"r\")\n",
    "loaded_model_json_Gesture = json_file_Gesture.read()\n",
    "json_file_Gesture.close()\n",
    "loaded_Gesture_model = model_from_json(loaded_model_json_Gesture)\n",
    "\n",
    "loaded_Gesture_model.load_weights(\"Gesture_model.h5\")\n",
    "\n",
    "print(\"Loaded model from disk\")"
   ]
  },
  {
   "cell_type": "markdown",
   "metadata": {},
   "source": [
    "## 두 모델을 compile하여 사용 가능하도록 만들기"
   ]
  },
  {
   "cell_type": "code",
   "execution_count": 2,
   "metadata": {},
   "outputs": [],
   "source": [
    "loaded_GPS_model.compile(optimizer='adam', loss='mean_squared_error',metrics=['mae'])\n",
    "loaded_Gesture_model.compile(optimizer='adam', loss='mean_squared_error',metrics=['mae'])"
   ]
  },
  {
   "cell_type": "markdown",
   "metadata": {},
   "source": [
    "## MATLAB과 TCP/IP 통신으로 데이터 주고받기"
   ]
  },
  {
   "cell_type": "code",
   "execution_count": null,
   "metadata": {
    "scrolled": true
   },
   "outputs": [
    {
     "name": "stdout",
     "output_type": "stream",
     "text": [
      "waiting for response from client at port : 10000\n",
      "Connected by ('127.0.0.1', 59459)\n",
      "hello\n",
      "waiting for response from client at port : 20000\n",
      "Connected by ('127.0.0.1', 59461)\n",
      "hello\n",
      "waiting for response from client at port : 30000\n",
      "Connected by ('127.0.0.1', 59462)\n",
      "hello\n"
     ]
    }
   ],
   "source": [
    "# MATLAB-Python 간의 TCP/IP 통신. Python = Server, MATLAB = Client\n",
    "# Python을 서버로 사용하기 때문에, 통신을 시작할 때 이 셀을 먼저 실행한 후 MATLAB의 통신 관련 섹션을 실행해야 함.\n",
    "import socket # TCP/IP 통신을 위해 필요한 라이브러리.\n",
    "import numpy as np # MATLAB으로부터 받은 데이터를 ndarray로 변환하여 학습모델에 import하기 위해 필요.\n",
    "\n",
    "# GPS 인식을 위해 MATLAB으로부터 일정 길이의 센서 신호를 받아서 GPS 인식 결과를 보내주기 위한 소켓.\n",
    "HOST = 'localhost' # 동일 PC 내에서 통신할 경우 localhost로 설정. \n",
    "PORT1 = 10000 # 데이터를 주고 받을 포트 숫자 결정.\n",
    "s1 = socket.socket(socket.AF_INET, socket.SOCK_STREAM) # 소켓을 정의할 때 가장 일반적으로 하는 세팅.\n",
    "s1.bind((HOST, PORT1)) # Python을 서버로 쓰려면 실행해야 하는 설정.\n",
    "s1.listen(1) # 이것의 정확한 역할은 잘 모르겠으나 역시 bind와 함께 사용해야 함.\n",
    "print(\"waiting for response from client at port : {}\".format(PORT1))\n",
    "conn1, addr1 = s1.accept() # MATLAB에서 동일한 포트가 열릴 때 까지 여기서 코드가 대기함. 앞으로 Python 내에서 이 소켓을 통해 통신할 때는\n",
    "# 여기서 정의한 conn1 이라는 이름의 변수를 사용함.\n",
    "print('Connected by {}'.format(addr1))\n",
    "print('hello')\n",
    "\n",
    "# Gesture 인식을 위해 MATLAB으로부터 일정 길이의 센서 신호를 받아서 Gesture 인식 결과를 보내주기 위한 소켓.\n",
    "# 위의 conn1을 정의할 때와 완전히 동일한 과정.\n",
    "PORT2 = 20000 \n",
    "s2 = socket.socket(socket.AF_INET, socket.SOCK_STREAM)\n",
    "s2.bind((HOST, PORT2))\n",
    "s2.listen(1)\n",
    "print(\"waiting for response from client at port : {}\".format(PORT2))\n",
    "conn2, addr2 = s2.accept()\n",
    "print('Connected by {}'.format(addr2))\n",
    "print('hello')\n",
    "\n",
    "# GPS 인식 단계에서 Gesture 인식 단계로의 전환을 MATLAB과 함께 제어하기 위한 소켓.\n",
    "# MATLAB에서 이 소켓을 통해 0을 보내면 Gesture 인식 단계로 넘어가지 말라는 의미. 1을 받으면 넘어가라는 의미.\n",
    "PORT3 = 30000\n",
    "s3 = socket.socket(socket.AF_INET, socket.SOCK_STREAM)\n",
    "s3.bind((HOST, PORT3))\n",
    "s3.listen(1)\n",
    "print(\"waiting for response from client at port : {}\".format(PORT3))\n",
    "conn3, addr3 = s3.accept()\n",
    "print('Connected by {}'.format(addr3))\n",
    "print('hello')\n",
    "\n",
    "while True: # 무한 루프를 돌며 MATLAB과 데이터 통신.\n",
    "    # conn1을 통해 온전한 센서 데이터를 받을 때 까지 무한 루프 실행.\n",
    "    while True:\n",
    "        # GPS related communication\n",
    "        data_for_GPS = conn1.recv(2048) # 최대 2048 바이트의 데이터 받음.\n",
    "        data_for_GPS_decoded = data_for_GPS.decode() # decode를 통해 byte array를 string으로 변환.\n",
    "        if data_for_GPS_decoded[-1] == 'x': # MATLAB으로부터 받은 데이터 패킷의 끝에 x가 발견되면 무한 루프 탈출.\n",
    "            data_for_GPS_decoded = data_for_GPS_decoded.rstrip('x') # rstrip으로 오른쪽 끝에 있는 데이터를 지움.\n",
    "            break\n",
    "\n",
    "    if not data_for_GPS_decoded.count('[') == 1: # 만약 MATLAB으로부터 받은 데이터에 [] 이렇게 구성된 패킷이 여러 개 있을 경우 첫 패킷 사용.\n",
    "        # 이 내용은 패킷의 안정적인 통신을 위한 통신 프로토콜임.\n",
    "        data_for_GPS_decoded = data_for_GPS_decoded[:data_for_GPS_decoded.find(']')+1]\n",
    "\n",
    "    # MATLAB으로부터 받은 데이터를 이용한 연산\n",
    "    tmp = data_for_GPS_decoded.strip('[]') # string 데이터에서 양 끝의 bracket 지움.\n",
    "    tmp_split_time = tmp.split(';') # MATLAB이 보낸 m x n 행렬은 각 행 구분을 ; 이걸로 하기 때문에, ;마다 구분을 하여 저장해야 함.\n",
    "\n",
    "    # (time, sensor)의 numpy array 형태로 정렬\n",
    "    count = 0\n",
    "    for each_time in tmp_split_time: # ;마다 split된 데이터가 저장된 list 타입 데이터에서 한 행 씩 가져와서 vertically stack하는 과정\n",
    "        tmp = each_time.split()\n",
    "        if count == 0:\n",
    "            storing = np.array([tmp], dtype='float32')\n",
    "        else:\n",
    "            tmp_np = np.array([tmp], dtype='float32')\n",
    "            storing = np.append(storing, tmp_np, axis=0)\n",
    "        count += 1\n",
    "\n",
    "    # GPS 모델에 입력\n",
    "    GPS_model_input = np.reshape(storing, (1, storing.shape[0], storing.shape[1])) # GPS 모델은 (batch size, 20, 10)의 데이터를 입력받아\n",
    "    # 학습되었기 때문에, 모델에 데이터를 넣을 때 3차원으로 변환해야 함. 여기서는 (1, 20, 10)의 크기로 변환.\n",
    "    GPS_predict = loaded_GPS_model.predict(GPS_model_input) # keras.models에 포함된 predict를 사용하여 GPS_model에 주어진 데이터를 입력했을 때\n",
    "    # 얻는 output을 알 수 있음.\n",
    "\n",
    "    # MATLAB으로 GPS 인식 결과 보내기\n",
    "    GPS_predict_send = str(GPS_predict) # TCP/IP 통신으로 데이터를 주고 받을 때는 string 타입을 사용해야 함.\n",
    "    clientdata=GPS_predict_send+'\\r' # MATLAB으로 보낼 패킷의 끝에 \\r 를 덧붙여서 보냄. 패킷의 끝을 알기 위한 프로토콜.\n",
    "    # MATLAB에서 패킷 보낼 때 처럼 패킷 끝에 x를 붙여보았으나 패킷의 크기가 커져서인지 데이터 송수신 속도가 느려졌음. \\r는 문제 없었음.\n",
    "    conn1.send(clientdata.encode('utf-8')) # utf-8로 encode하여 MATLAB으로 데이터 보냄.\n",
    "    \n",
    "    # conn3을 통해 온전한 데이터를 받을 때 까지 무한 루프 실행.\n",
    "    while True:\n",
    "        check = conn3.recv(64) # check는 0a 또는 1b을 가지는 변수. 주고받는 데이터 크기가 작으므로 64바이트로 충분.\n",
    "        check_decoded = check.decode() # decode를 통해 byte array를 string으로 변환.\n",
    "        if check_decoded[-1] == 'a': # check가 0a를 받을 경우 루프를 탈출하고 다시 맨 처음의 루프로 돌아가서 conn1을\n",
    "        # 통해 센서 데이터를 받고 GPS를 추정함.\n",
    "            break\n",
    "        else: # check가 1b를 받을 경우 Gesture 인식 단계로 진입하라는 의미이므로 다음을 수행.\n",
    "            # conn2을 통해 온전한 데이터를 받을 때 까지 무한 루프 실행.\n",
    "            while True:\n",
    "                # Gesture related communication\n",
    "                data_for_Gesture = conn2.recv(2048) # 최대 2048 바이트의 데이터 받음.\n",
    "                data_for_Gesture_decoded = data_for_Gesture.decode() # decode를 통해 byte array를 string으로 변환.\n",
    "                if data_for_Gesture_decoded[-1] == 'x': # MATLAB으로부터 받은 패킷의 끝에 x가 있는지 확인.\n",
    "                    data_for_Gesture_decoded = data_for_Gesture_decoded.rstrip('x') # x가 확인되면 이를 strip하여 제거.\n",
    "                    break\n",
    "\n",
    "            if not data_for_Gesture_decoded.count('[') == 1: # 만약 MATLAB으로부터 받은 데이터에 [] 이렇게 구성된 패킷이 여러 개 있을 경우 첫 패킷 사용.\n",
    "            # 이 내용은 패킷의 안정적인 통신을 위한 통신 프로토콜임.\n",
    "                data_for_Gesture_decoded = data_for_Gesture_decoded[:data_for_Gesture_decoded.find(']')+1]\n",
    "\n",
    "            # MATLAB으로부터 받은 데이터를 이용한 연산\n",
    "            tmp = data_for_Gesture_decoded.strip('[]') # string 데이터에서 양 끝의 bracket 지움.\n",
    "            tmp_split_time = tmp.split(';') # MATLAB이 보낸 m x n 행렬은 각 행 구분을 ; 이걸로 하기 때문에, ;마다 구분을 하여 저장해야 함.\n",
    "\n",
    "            # (time, sensor)의 numpy array 형태로 정렬\n",
    "            count = 0\n",
    "            for each_time in tmp_split_time: # ;마다 split된 데이터가 저장된 list 타입 데이터에서 한 행 씩 가져와서 vertically stack하는 과정\n",
    "                tmp = each_time.split()\n",
    "                if count == 0:\n",
    "                    storing = np.array([tmp], dtype='float32')\n",
    "                else:\n",
    "                    tmp_np = np.array([tmp], dtype='float32')\n",
    "                    storing = np.append(storing, tmp_np, axis=0)\n",
    "                count += 1\n",
    "\n",
    "            # Gesture 모델에 입력\n",
    "            Gesture_model_input = np.reshape(storing, (1, storing.shape[0], storing.shape[1])) # Gesture 모델은 (batch size, timestep, 10)의 데이터를 입력받아\n",
    "            # 학습되었기 때문에, 모델에 데이터를 넣을 때 3차원으로 변환해야 함. 여기서는 (1, timestep, 10)의 크기로 변환.\n",
    "            Gesture_predict = loaded_Gesture_model.predict(Gesture_model_input)\n",
    "            \n",
    "            # MATLAB으로 GPS 인식 결과 보내기\n",
    "            Gesture_predict_send = str(Gesture_predict) # TCP/IP 통신으로 데이터를 주고 받을 때는 string 타입을 사용해야 함.\n",
    "            clientdata=Gesture_predict_send+'\\r' # MATLAB으로 보낼 패킷의 끝에 \\r 를 덧붙여서 보냄. 패킷의 끝을 알기 위한 프로토콜.\n",
    "            conn2.send(clientdata.encode('utf-8')) # utf-8로 encode하여 MATLAB으로 데이터 보냄.\n",
    "            break\n",
    "\n",
    "# TCP/IP 통신을 위해 열려있던 소켓은 반드시 close()로 닫아줘야 함.\n",
    "conn1.close()\n",
    "conn2.close()\n",
    "conn3.close()"
   ]
  },
  {
   "cell_type": "code",
   "execution_count": null,
   "metadata": {},
   "outputs": [],
   "source": []
  }
 ],
 "metadata": {
  "kernelspec": {
   "display_name": "Python 3",
   "language": "python",
   "name": "python3"
  },
  "language_info": {
   "codemirror_mode": {
    "name": "ipython",
    "version": 3
   },
   "file_extension": ".py",
   "mimetype": "text/x-python",
   "name": "python",
   "nbconvert_exporter": "python",
   "pygments_lexer": "ipython3",
   "version": "3.7.6"
  }
 },
 "nbformat": 4,
 "nbformat_minor": 4
}
